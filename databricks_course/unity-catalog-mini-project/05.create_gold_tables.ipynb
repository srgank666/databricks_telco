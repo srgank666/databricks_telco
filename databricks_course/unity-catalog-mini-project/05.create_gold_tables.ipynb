{
 "cells": [
  {
   "cell_type": "code",
   "execution_count": 0,
   "metadata": {
    "application/vnd.databricks.v1+cell": {
     "cellMetadata": {
      "byteLimit": 2048000,
      "rowLimit": 10000
     },
     "inputWidgets": {},
     "nuid": "fc0cff4b-4f0d-49d4-902b-6cef3247c896",
     "showTitle": false,
     "tableResultSettingsMap": {},
     "title": ""
    }
   },
   "outputs": [],
   "source": [
    "DROP TABLE IF EXISTS telco_dev.gold.ingreso_por_cliente;\n",
    "CREATE TABLE IF NOT EXISTS telco_dev.gold.ingreso_por_cliente\n",
    "AS\n",
    "  SELECT C.nombre_completo, SUM(D.precio_mensual) as ingreso\n",
    "  FROM telco_dev.silver.clientes C\n",
    "  JOIN telco_dev.silver.detalles D\n",
    "  ON C.cliente_id = D.cliente_id\n",
    "  GROUP BY C.nombre_completo\n",
    "  ORDER BY ingreso DESC;"
   ]
  },
  {
   "cell_type": "code",
   "execution_count": 0,
   "metadata": {
    "application/vnd.databricks.v1+cell": {
     "cellMetadata": {
      "byteLimit": 2048000,
      "rowLimit": 10000
     },
     "inputWidgets": {},
     "nuid": "7037e508-5a21-4169-bd51-e746b48bcf45",
     "showTitle": false,
     "tableResultSettingsMap": {},
     "title": ""
    }
   },
   "outputs": [],
   "source": [
    "SELECT * From telco_dev.gold.ingreso_por_cliente"
   ]
  }
 ],
 "metadata": {
  "application/vnd.databricks.v1+notebook": {
   "computePreferences": null,
   "dashboards": [],
   "environmentMetadata": {
    "base_environment": "",
    "environment_version": "2"
   },
   "inputWidgetPreferences": null,
   "language": "sql",
   "notebookMetadata": {},
   "notebookName": "05.create_gold_tables",
   "widgets": {}
  },
  "language_info": {
   "name": "sql"
  }
 },
 "nbformat": 4,
 "nbformat_minor": 0
}
