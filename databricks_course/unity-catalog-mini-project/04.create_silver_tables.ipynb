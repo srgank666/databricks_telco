{
 "cells": [
  {
   "cell_type": "code",
   "execution_count": 0,
   "metadata": {
    "application/vnd.databricks.v1+cell": {
     "cellMetadata": {
      "byteLimit": 2048000,
      "rowLimit": 10000
     },
     "inputWidgets": {},
     "nuid": "5708003d-9f3c-43f7-9824-9cc2dfe0f1ab",
     "showTitle": false,
     "tableResultSettingsMap": {},
     "title": ""
    }
   },
   "outputs": [],
   "source": [
    "DROP TABLE IF EXISTS telco_dev.silver.clientes;\n",
    "CREATE TABLE IF NOT EXISTS telco_dev.silver.clientes\n",
    "AS\n",
    "SELECT\n",
    "clienteId as cliente_id,\n",
    "CONCAT(nombre,' ',paterno,' ', materno) as nombre_completo,\n",
    "documentoIdentidad as documento_identidad,\n",
    "telefono,\n",
    "email,\n",
    "direccion,\n",
    "current_timestamp() as ingestion_date\n",
    "FROM telco_dev.bronze.clientes;\n",
    "\n",
    "\n"
   ]
  },
  {
   "cell_type": "code",
   "execution_count": 0,
   "metadata": {
    "application/vnd.databricks.v1+cell": {
     "cellMetadata": {
      "byteLimit": 2048000,
      "rowLimit": 10000
     },
     "inputWidgets": {},
     "nuid": "f961f689-e9a3-41fb-aef1-09a634ecbdb2",
     "showTitle": false,
     "tableResultSettingsMap": {},
     "title": ""
    }
   },
   "outputs": [],
   "source": [
    "SELECT * FROM telco_dev.silver.clientes"
   ]
  },
  {
   "cell_type": "code",
   "execution_count": 0,
   "metadata": {
    "application/vnd.databricks.v1+cell": {
     "cellMetadata": {
      "byteLimit": 2048000,
      "rowLimit": 10000
     },
     "inputWidgets": {},
     "nuid": "b1aebc3f-46e1-4e38-8543-8a008782cdb4",
     "showTitle": false,
     "tableResultSettingsMap": {},
     "title": ""
    }
   },
   "outputs": [],
   "source": [
    "DROP TABLE IF EXISTS telco_dev.silver.detalles;\n",
    "CREATE TABLE IF NOT EXISTS telco_dev.silver.detalles\n",
    "AS\n",
    "SELECT\n",
    "  detalleId as detalle_id,\n",
    "  clienteId as cliente_id,\n",
    "  servicio,\n",
    "  plan,\n",
    "  precioMensual as precio_mensual,\n",
    "  estado,\n",
    "  fechaInicio as fecha_inicio,\n",
    "  fechaFin as fecha_fin,\n",
    "  current_timestamp() as ingestion_date\n",
    "FROM telco_dev.bronze.detalles;"
   ]
  },
  {
   "cell_type": "code",
   "execution_count": 0,
   "metadata": {
    "application/vnd.databricks.v1+cell": {
     "cellMetadata": {
      "byteLimit": 2048000,
      "rowLimit": 10000
     },
     "inputWidgets": {},
     "nuid": "b313fe8a-27ab-4efa-a6c5-32a5ef93e9a7",
     "showTitle": false,
     "tableResultSettingsMap": {},
     "title": ""
    }
   },
   "outputs": [],
   "source": [
    "SELECT * FROM telco_dev.silver.detalles"
   ]
  }
 ],
 "metadata": {
  "application/vnd.databricks.v1+notebook": {
   "computePreferences": null,
   "dashboards": [],
   "environmentMetadata": {
    "base_environment": "",
    "environment_version": "2"
   },
   "inputWidgetPreferences": null,
   "language": "sql",
   "notebookMetadata": {
    "pythonIndentUnit": 4
   },
   "notebookName": "04.create_silver_tables",
   "widgets": {}
  },
  "language_info": {
   "name": "sql"
  }
 },
 "nbformat": 4,
 "nbformat_minor": 0
}
