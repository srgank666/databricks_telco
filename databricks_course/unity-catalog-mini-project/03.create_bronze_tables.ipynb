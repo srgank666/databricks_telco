{
 "cells": [
  {
   "cell_type": "code",
   "execution_count": 0,
   "metadata": {
    "application/vnd.databricks.v1+cell": {
     "cellMetadata": {
      "byteLimit": 2048000,
      "rowLimit": 10000
     },
     "inputWidgets": {},
     "nuid": "6fc785d3-6dbe-415a-8e1b-57b9cff1486b",
     "showTitle": false,
     "tableResultSettingsMap": {},
     "title": ""
    }
   },
   "outputs": [],
   "source": [
    "DROP TABLE IF EXISTS telco_dev.bronze.clientes;\n",
    "CREATE TABLE IF NOT EXISTS telco_dev.bronze.clientes(\n",
    "  clienteId INT,\n",
    "  nombre STRING,\n",
    "  paterno STRING,\n",
    "  materno STRING,\n",
    "  documentoIdentidad STRING,\n",
    "  telefono STRING,\n",
    "  email STRING,\n",
    "  direccion STRING \n",
    ")\n",
    "USING CSV\n",
    "OPTIONS (path \"abfss://bronze@sadatabricksext.dfs.core.windows.net/clientes.csv\",delimiter \";\", header \"true\")"
   ]
  },
  {
   "cell_type": "code",
   "execution_count": 0,
   "metadata": {
    "application/vnd.databricks.v1+cell": {
     "cellMetadata": {
      "byteLimit": 2048000,
      "rowLimit": 10000
     },
     "inputWidgets": {},
     "nuid": "6d3c2249-76d0-48e5-8519-733f4de61589",
     "showTitle": false,
     "tableResultSettingsMap": {},
     "title": ""
    }
   },
   "outputs": [],
   "source": [
    "SELECT * FROM telco_dev.bronze.clientes"
   ]
  },
  {
   "cell_type": "code",
   "execution_count": 0,
   "metadata": {
    "application/vnd.databricks.v1+cell": {
     "cellMetadata": {
      "byteLimit": 2048000,
      "rowLimit": 10000
     },
     "inputWidgets": {},
     "nuid": "f9959187-ec07-4524-ba3a-236d7afe129c",
     "showTitle": false,
     "tableResultSettingsMap": {},
     "title": ""
    }
   },
   "outputs": [],
   "source": [
    "DROP TABLE IF EXISTS telco_dev.bronze.detalles;\n",
    "CREATE TABLE IF NOT EXISTS telco_dev.bronze.detalles(\n",
    "  detalleId INT,\n",
    "  clienteId INT,\n",
    "  servicio STRING,\n",
    "  plan STRING,\n",
    "  precioMensual DECIMAL(5,2),\n",
    "  estado BOOLEAN,\n",
    "  fechaInicio DATE,\n",
    "  fechaFin DATE\n",
    ")\n",
    "USING CSV\n",
    "OPTIONS (path \"abfss://bronze@sadatabricksext.dfs.core.windows.net/detalles.csv\",delimiter \";\", header \"true\")"
   ]
  },
  {
   "cell_type": "code",
   "execution_count": 0,
   "metadata": {
    "application/vnd.databricks.v1+cell": {
     "cellMetadata": {
      "byteLimit": 2048000,
      "rowLimit": 10000
     },
     "inputWidgets": {},
     "nuid": "e5e6731f-6787-44b9-a4fd-541b61acc187",
     "showTitle": false,
     "tableResultSettingsMap": {},
     "title": ""
    }
   },
   "outputs": [],
   "source": [
    "SELECT * FROM telco_dev.bronze.detalles"
   ]
  }
 ],
 "metadata": {
  "application/vnd.databricks.v1+notebook": {
   "computePreferences": null,
   "dashboards": [],
   "environmentMetadata": {
    "base_environment": "",
    "environment_version": "2"
   },
   "inputWidgetPreferences": null,
   "language": "sql",
   "notebookMetadata": {
    "pythonIndentUnit": 4
   },
   "notebookName": "03.create_bronze_tables",
   "widgets": {}
  },
  "language_info": {
   "name": "sql"
  }
 },
 "nbformat": 4,
 "nbformat_minor": 0
}
